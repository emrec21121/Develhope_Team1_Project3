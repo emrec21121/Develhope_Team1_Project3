{
  "nbformat": 4,
  "nbformat_minor": 0,
  "metadata": {
    "colab": {
      "provenance": []
    },
    "kernelspec": {
      "name": "python3",
      "display_name": "Python 3"
    },
    "language_info": {
      "name": "python"
    }
  },
  "cells": [
    {
      "cell_type": "code",
      "source": [
        "ls"
      ],
      "metadata": {
        "colab": {
          "base_uri": "https://localhost:8080/"
        },
        "id": "jybWZp_N-e6V",
        "outputId": "7fc11ce7-3751-4fff-c1b0-8ff848bee43d"
      },
      "execution_count": null,
      "outputs": [
        {
          "output_type": "stream",
          "name": "stdout",
          "text": [
            "2017-fordgobike-tripdataa.csv  \u001b[0m\u001b[01;34msample_data\u001b[0m/\n"
          ]
        }
      ]
    },
    {
      "cell_type": "code",
      "source": [
        "pwd"
      ],
      "metadata": {
        "colab": {
          "base_uri": "https://localhost:8080/",
          "height": 35
        },
        "id": "bt6wfBq2-ei_",
        "outputId": "54defc13-665d-4d25-cd45-879fed43bef0"
      },
      "execution_count": null,
      "outputs": [
        {
          "output_type": "execute_result",
          "data": {
            "text/plain": [
              "'/content'"
            ],
            "application/vnd.google.colaboratory.intrinsic+json": {
              "type": "string"
            }
          },
          "metadata": {},
          "execution_count": 2
        }
      ]
    },
    {
      "cell_type": "code",
      "source": [
        "!apt-get install openjdk-8-jdk-headless -qq > /dev/null\n",
        "!wget -q http://archive.apache.org/dist/spark/spark-3.1.1/spark-3.1.1-bin-hadoop3.2.tgz\n",
        "!tar xf spark-3.1.1-bin-hadoop3.2.tgz\n",
        "!pip install -q findspark"
      ],
      "metadata": {
        "id": "vnKrZ__k-tj1"
      },
      "execution_count": null,
      "outputs": []
    },
    {
      "cell_type": "code",
      "source": [
        "import os\n",
        "os.environ[\"JAVA_HOME\"] = \"/usr/lib/jvm/java-8-openjdk-amd64\"\n",
        "os.environ[\"SPARK_HOME\"] = \"/content/spark-3.1.1-bin-hadoop3.2\""
      ],
      "metadata": {
        "id": "ozBdWiRS_Bi5"
      },
      "execution_count": null,
      "outputs": []
    },
    {
      "cell_type": "code",
      "source": [
        "!ls"
      ],
      "metadata": {
        "colab": {
          "base_uri": "https://localhost:8080/"
        },
        "id": "cu2upeus_dyh",
        "outputId": "b665c393-e2a6-44eb-ffc2-95b0cd6300eb"
      },
      "execution_count": null,
      "outputs": [
        {
          "output_type": "stream",
          "name": "stdout",
          "text": [
            "2017-fordgobike-tripdataa.csv  spark-3.1.1-bin-hadoop3.2\n",
            "sample_data\t\t       spark-3.1.1-bin-hadoop3.2.tgz\n"
          ]
        }
      ]
    },
    {
      "cell_type": "code",
      "source": [
        "!pip install findspark"
      ],
      "metadata": {
        "colab": {
          "base_uri": "https://localhost:8080/"
        },
        "id": "SmQwbmX2_pte",
        "outputId": "961229b9-4a0d-4859-bbe3-99f6717a75ea"
      },
      "execution_count": null,
      "outputs": [
        {
          "output_type": "stream",
          "name": "stdout",
          "text": [
            "Looking in indexes: https://pypi.org/simple, https://us-python.pkg.dev/colab-wheels/public/simple/\n",
            "Requirement already satisfied: findspark in /usr/local/lib/python3.10/dist-packages (2.0.1)\n"
          ]
        }
      ]
    },
    {
      "cell_type": "code",
      "source": [
        "import findspark\n",
        "findspark.init()\n",
        "from pyspark.sql import SparkSession\n",
        "spark = SparkSession.builder.master(\"local[*]\").getOrCreate()\n",
        "spark.conf.set(\"spark.sql.repl.eagerEval.enabled\", True) # Property used to format output tables better\n",
        "spark"
      ],
      "metadata": {
        "colab": {
          "base_uri": "https://localhost:8080/",
          "height": 219
        },
        "id": "4jguUK7i_vRZ",
        "outputId": "31cd7dc2-97dd-4238-ac3a-45a4248ff385"
      },
      "execution_count": null,
      "outputs": [
        {
          "output_type": "execute_result",
          "data": {
            "text/plain": [
              "<pyspark.sql.session.SparkSession at 0x7f626c551ae0>"
            ],
            "text/html": [
              "\n",
              "            <div>\n",
              "                <p><b>SparkSession - in-memory</b></p>\n",
              "                \n",
              "        <div>\n",
              "            <p><b>SparkContext</b></p>\n",
              "\n",
              "            <p><a href=\"http://88bd9a8c0410:4040\">Spark UI</a></p>\n",
              "\n",
              "            <dl>\n",
              "              <dt>Version</dt>\n",
              "                <dd><code>v3.1.1</code></dd>\n",
              "              <dt>Master</dt>\n",
              "                <dd><code>local[*]</code></dd>\n",
              "              <dt>AppName</dt>\n",
              "                <dd><code>pyspark-shell</code></dd>\n",
              "            </dl>\n",
              "        </div>\n",
              "        \n",
              "            </div>\n",
              "        "
            ]
          },
          "metadata": {},
          "execution_count": 7
        }
      ]
    },
    {
      "cell_type": "code",
      "execution_count": null,
      "metadata": {
        "id": "Nq4tK_hm_zjA"
      },
      "outputs": [],
      "source": [
        "from pyspark.sql import SparkSession\n",
        "\n",
        "spark = SparkSession.builder \\\n",
        "        .appName(\"Google Colab - PySpark Demo\") \\\n",
        "        .master(\"local[*]\") \\\n",
        "        .getOrCreate()\n"
      ]
    },
    {
      "cell_type": "code",
      "source": [
        "pip install haversine"
      ],
      "metadata": {
        "colab": {
          "base_uri": "https://localhost:8080/"
        },
        "id": "4CcDRD5XB1rE",
        "outputId": "4f904393-86bf-4f94-b0d1-f975ae0986e5"
      },
      "execution_count": null,
      "outputs": [
        {
          "output_type": "stream",
          "name": "stdout",
          "text": [
            "Looking in indexes: https://pypi.org/simple, https://us-python.pkg.dev/colab-wheels/public/simple/\n",
            "Collecting haversine\n",
            "  Downloading haversine-2.8.0-py2.py3-none-any.whl (7.7 kB)\n",
            "Installing collected packages: haversine\n",
            "Successfully installed haversine-2.8.0\n"
          ]
        }
      ]
    },
    {
      "cell_type": "code",
      "source": [
        "from haversine import haversine\n",
        "from pyspark.sql.types import *\n",
        "from pyspark.sql.functions import *\n",
        "import pyspark.sql.functions as f\n",
        "from geopy.distance import geodesic\n",
        "from datetime import datetime\n",
        "import matplotlib.pyplot as plt\n",
        "import pandas as pd"
      ],
      "metadata": {
        "id": "cNHaAR_QCk1V"
      },
      "execution_count": null,
      "outputs": []
    },
    {
      "cell_type": "code",
      "source": [
        "import pyspark.sql.functions as F"
      ],
      "metadata": {
        "id": "L_3wySFhD4RG"
      },
      "execution_count": null,
      "outputs": []
    },
    {
      "cell_type": "markdown",
      "source": [
        "# Tasks\n",
        "## Week 1\n",
        "###1 - open databricks account  - v\n",
        "###2 - clean the dataset - v\n",
        "###3 - calculate distance of each trip using haversine library and add the result to the dataset - v\n",
        "\n",
        "##Week 2\n",
        "###1 - calculate the duration in seconds of each trip - x\n",
        "###2 - by assuming each minute cost 0.35 cent calculate the fee for each trip\n",
        "###3 - calculate the total distance for each bike and list the top 10\n",
        "\n",
        "##Week 3\n",
        "###1 - calculate the number of trips for each start station list top 10 and find the ratio of using as male or female\n",
        "###2 - make a comparison to find the percentage of usage for customer and subscriber\n",
        "###3 - calculate the age of all users and show the relation between the distance and the age\n",
        "###4 - prepare for you presentation\n",
        "\n",
        "##Week 4\n",
        "###1 - calculate the total cost for all customers and all subscribers\n",
        "###2 - Analyze how often bikes are being rented ( morning - afternoon - evening) and and find the density for each hour of the day\n",
        "###3 - find if there is a relation between the time and start stations\n",
        "\n",
        "##Week 5\n",
        "###1 - what is the ratio from credit card or app wallet\n"
      ],
      "metadata": {
        "id": "LeFOE5-S_410"
      }
    },
    {
      "cell_type": "markdown",
      "source": [
        "# Week 1"
      ],
      "metadata": {
        "id": "mm4w5NBsyPz3"
      }
    },
    {
      "cell_type": "markdown",
      "source": [
        "task 3 - calculate distance of each trip using haversine library and add the result to the dataset"
      ],
      "metadata": {
        "id": "J-mDeIpUyYNI"
      }
    },
    {
      "cell_type": "code",
      "source": [
        "df = spark.read.csv('2017-fordgobike-tripdataa.csv', inferSchema = True, header = True)\n"
      ],
      "metadata": {
        "id": "VZ2-BN4Tzl2r"
      },
      "execution_count": null,
      "outputs": []
    },
    {
      "cell_type": "code",
      "source": [
        "def haversine_distance(lat1, lon1, lat2, lon2):\n",
        "    start = (lat1, lon1)\n",
        "    end = (lat2, lon2)\n",
        "    distance = haversine(start, end)\n",
        "    return distance\n",
        "\n",
        "calculate_distance = udf(haversine_distance, DoubleType())\n",
        "\n",
        "# Apply the user-defined function to the DataFrame\n",
        "df = df.withColumn(\"distance\", calculate_distance(df.start_station_latitude, df.start_station_longitude, df.end_station_latitude, df.end_station_longitude))"
      ],
      "metadata": {
        "id": "Grr6nfAEQzfP"
      },
      "execution_count": null,
      "outputs": []
    },
    {
      "cell_type": "code",
      "source": [
        "df.show()"
      ],
      "metadata": {
        "colab": {
          "base_uri": "https://localhost:8080/"
        },
        "id": "rdAh_jqE0f4e",
        "outputId": "f0e36649-0404-49fb-9bac-ffef5ca3382b"
      },
      "execution_count": null,
      "outputs": [
        {
          "output_type": "stream",
          "name": "stdout",
          "text": [
            "+----------+---------------+-----------------+------------------+---+--------+-------------+---------------+----------------+---+----------------+--------------------+----------------------+-----------------------+--------------+--------------------+--------------------+---------------------+-------+----------+-----------------+-------------+-----------+\n",
            "|start_time|start time hour|start time minute|start time seconds|_c4|end_time|end_time hour|end_time minute|end_time seconds|_c9|start_station_id|  start_station_name|start_station_latitude|start_station_longitude|end_station_id|    end_station_name|end_station_latitude|end_station_longitude|bike_id| user_type|member_birth_year|member_gender|     pyment|\n",
            "+----------+---------------+-----------------+------------------+---+--------+-------------+---------------+----------------+---+----------------+--------------------+----------------------+-----------------------+--------------+--------------------+--------------------+---------------------+-------+----------+-----------------+-------------+-----------+\n",
            "|   57:39.7|              4|               57|                40| PM| 12:50.2|            3|             12|              50| PM|              74|Laguna St at Haye...|           37.77643482|            -122.426244|            43|San Francisco Pub...|          37.7787677|         -122.4159292|     96|  Customer|             1987|         Male|credit card|\n",
            "|   56:34.8|              3|               56|                35| PM| 49:55.6|            1|             49|              56| PM|             284|Yerba Buena Cente...|           37.78487208|           -122.4008757|            96|Dolores St at 15t...|          37.7662102|         -122.4266136|     88|  Customer|             1965|       Female|credit card|\n",
            "|   45:48.4|             10|               45|                48| PM| 28:36.9|           11|             28|              37| AM|             245|Downtown Berkeley...|            37.8703477|           -122.2677637|           245|Downtown Berkeley...|          37.8703477|         -122.2677637|   1094|  Customer|             null|         null|credit card|\n",
            "|   31:10.6|              5|               31|                11| PM| 47:23.5|           10|             47|              24| AM|              60|8th St at Ringold St|            37.7745204|           -122.4094494|             5|Powell St BART St...|         37.78389936|         -122.4084449|   2831|  Customer|             null|         null|credit card|\n",
            "|   23:14.0|              2|               23|                14| PM| 29:57.6|            2|             29|              58| AM|             239|Bancroft Way at T...|            37.8688126|            -122.258764|           247|Fulton St at Banc...|          37.8677892|         -122.2658964|   3167|Subscriber|             1997|       Female| app wallet|\n",
            "|   51:00.9|             10|               51|                 1| PM| 24:47.2|            1|             24|              47| AM|              30|San Francisco Cal...|             37.776598|            -122.395282|            30|San Francisco Cal...|           37.776598|          -122.395282|   1487|  Customer|             null|         null| app wallet|\n",
            "|   49:28.4|             11|               49|                28| PM| 04:35.6|            1|              4|              36| AM|             259|Addison St at Fou...|             37.866249|           -122.2993708|           259|Addison St at Fou...|           37.866249|         -122.2993708|   3539|  Customer|             1991|       Female| app wallet|\n",
            "|   46:37.2|             11|               46|                37| PM| 58:51.2|           12|             58|              51| AM|             284|Yerba Buena Cente...|           37.78487208|           -122.4008757|           284|Yerba Buena Cente...|         37.78487208|         -122.4008757|   1503|  Customer|             null|         null| app wallet|\n",
            "|   37:07.5|             11|               37|                 8| PM| 46:18.3|           12|             46|              18| AM|              20|Mechanics Monumen...|               37.7913|            -122.399051|            20|Mechanics Monumen...|             37.7913|          -122.399051|   3125|  Customer|             null|         null| app wallet|\n",
            "|   35:38.1|             11|               35|                38| PM| 46:17.1|           12|             46|              17| AM|              20|Mechanics Monumen...|               37.7913|            -122.399051|            20|Mechanics Monumen...|             37.7913|          -122.399051|   2543|  Customer|             null|         null| app wallet|\n",
            "|   46:32.4|             11|               46|                32| PM| 41:24.6|           12|             41|              25| AM|             284|Yerba Buena Cente...|           37.78487208|           -122.4008757|            22|Howard St at Beal...|           37.789756|          -122.394643|   3058|  Customer|             null|         null|credit card|\n",
            "|   48:11.8|             11|               48|                12| PM| 41:09.6|           12|             41|              10| AM|             284|Yerba Buena Cente...|           37.78487208|           -122.4008757|            22|Howard St at Beal...|           37.789756|          -122.394643|   3197|  Customer|             null|         null| app wallet|\n",
            "|   52:55.6|             11|               52|                56| PM| 29:18.7|           12|             29|              19| AM|              67|San Francisco Cal...|            37.7766392|           -122.3955263|            24|Spear St at Folso...|          37.7896767|         -122.3904285|   2311|Subscriber|             1990|         Male|credit card|\n",
            "|   52:55.9|             11|               52|                56| PM| 29:06.9|           12|             29|               7| AM|              67|San Francisco Cal...|            37.7766392|           -122.3955263|            24|Spear St at Folso...|          37.7896767|         -122.3904285|   3717|Subscriber|             1990|         Male| app wallet|\n",
            "|   35:23.2|             11|               35|                23| PM| 20:20.8|           12|             20|              21| AM|              66|3rd St at Townsen...|           37.77874161|           -122.3927408|            23|The Embarcadero a...|           37.791464|          -122.391034|   3452|  Customer|             null|         null|credit card|\n",
            "|   53:38.9|             11|               53|                39| PM| 19:23.0|           12|             19|              23| AM|              14|Clay St at Batter...|             37.795001|             -122.39997|            27|Beale St at Harri...|          37.7880593|         -122.3918648|    558|Subscriber|             1980|       Female|credit card|\n",
            "|   54:40.1|             11|               54|                40| PM| 19:14.4|           12|             19|              14| AM|              14|Clay St at Batter...|             37.795001|             -122.39997|            27|Beale St at Harri...|          37.7880593|         -122.3918648|   3646|Subscriber|             1979|         Male| app wallet|\n",
            "|   55:09.7|             11|               55|                10| PM| 18:26.7|           12|             18|              27| AM|              78| Folsom St at 9th St|            37.7737172|           -122.4116467|            15|San Francisco Fer...|           37.795392|          -122.394203|   1667|  Customer|             null|         null| app wallet|\n",
            "|   52:49.5|             11|               52|                49| PM| 18:22.0|           12|             18|              22| AM|              78| Folsom St at 9th St|            37.7737172|           -122.4116467|            15|San Francisco Fer...|           37.795392|          -122.394203|   3114|Subscriber|             1988|        Other| app wallet|\n",
            "|   46:34.0|             11|               46|                34| PM| 06:50.1|           12|              6|              50| AM|               4|Cyril Magnin St a...|           37.78588063|            -122.408915|           123|Folsom St at 19th St|          37.7605936|         -122.4148171|   1473|Subscriber|             1971|         Male|credit card|\n",
            "+----------+---------------+-----------------+------------------+---+--------+-------------+---------------+----------------+---+----------------+--------------------+----------------------+-----------------------+--------------+--------------------+--------------------+---------------------+-------+----------+-----------------+-------------+-----------+\n",
            "only showing top 20 rows\n",
            "\n"
          ]
        }
      ]
    },
    {
      "cell_type": "code",
      "source": [],
      "metadata": {
        "id": "ykXuVadg-dsX"
      },
      "execution_count": null,
      "outputs": []
    },
    {
      "cell_type": "code",
      "source": [
        "start_time = F.concat_ws(\":\", \"start time hour\", \"start time minute\", \"start time seconds\", \"_c4\")\n",
        "end_time = F.concat_ws(\":\", \"end_time hour\", \"end_time minute\", \"end_time seconds\", \"_c9\")\n",
        "df = df.withColumn(\"starttime\", to_timestamp('start_time'))\n",
        "df = df.withColumn(\"endtime\", to_timestamp('end_time'))"
      ],
      "metadata": {
        "id": "ajWvuGQK5XA-"
      },
      "execution_count": null,
      "outputs": []
    },
    {
      "cell_type": "code",
      "source": [
        "df.show()\n"
      ],
      "metadata": {
        "id": "DCq47pnoCsdD"
      },
      "execution_count": null,
      "outputs": []
    },
    {
      "cell_type": "code",
      "source": [
        "from pyspark.sql.functions import unix_timestamp, from_unixtime, when, concat_ws, to_timestamp"
      ],
      "metadata": {
        "id": "uZUsSMQQ3qKw"
      },
      "execution_count": null,
      "outputs": []
    },
    {
      "cell_type": "code",
      "source": [
        "df = df.withColumn(\"duration\", when(df.start_time < df.end_time, (df.end_time - df.start_time). cast(\"double\")).otherwise((df.start_time - df.end_time).cast(\"double\")))"
      ],
      "metadata": {
        "id": "4YkeU7vs6UhS"
      },
      "execution_count": null,
      "outputs": []
    },
    {
      "cell_type": "code",
      "source": [
        "payment_ration = df.groupBy('pyment').count()\n",
        "display(payment_ration)"
      ],
      "metadata": {
        "id": "PZnNk4ts1Puk",
        "colab": {
          "base_uri": "https://localhost:8080/",
          "height": 91
        },
        "outputId": "bbc0fe25-f7da-4b56-85ed-f643ee532ab3"
      },
      "execution_count": null,
      "outputs": [
        {
          "output_type": "display_data",
          "data": {
            "text/plain": [
              "+-----------+------+\n",
              "|     pyment| count|\n",
              "+-----------+------+\n",
              "| app wallet|260061|\n",
              "|credit card|259639|\n",
              "+-----------+------+"
            ],
            "text/html": [
              "<table border='1'>\n",
              "<tr><th>pyment</th><th>count</th></tr>\n",
              "<tr><td>app wallet</td><td>260061</td></tr>\n",
              "<tr><td>credit card</td><td>259639</td></tr>\n",
              "</table>\n"
            ]
          },
          "metadata": {}
        }
      ]
    },
    {
      "cell_type": "code",
      "source": [
        "ratio_pyment = df.filter(df.pyment == \"app wallet\").count() / df.filter(df.pyment == 'credit card').count()\n",
        "ratio_pyment"
      ],
      "metadata": {
        "colab": {
          "base_uri": "https://localhost:8080/"
        },
        "id": "AHPnODwHG6No",
        "outputId": "e80ed8e0-fedf-4175-d52e-8e3a07a10249"
      },
      "execution_count": null,
      "outputs": [
        {
          "output_type": "execute_result",
          "data": {
            "text/plain": [
              "1.0016253336363181"
            ]
          },
          "metadata": {},
          "execution_count": 47
        }
      ]
    },
    {
      "cell_type": "code",
      "source": [
        "users = df.groupBy(['user_type', 'pyment']).count()\n",
        "users"
      ],
      "metadata": {
        "colab": {
          "base_uri": "https://localhost:8080/",
          "height": 138
        },
        "id": "IWHElr73H7WM",
        "outputId": "95d0e8a6-9bff-4c2a-fe3e-3dc45a85c8fc"
      },
      "execution_count": null,
      "outputs": [
        {
          "output_type": "execute_result",
          "data": {
            "text/plain": [
              "+----------+-----------+------+\n",
              "| user_type|     pyment| count|\n",
              "+----------+-----------+------+\n",
              "|Subscriber| app wallet|204727|\n",
              "|  Customer| app wallet| 55334|\n",
              "|  Customer|credit card| 55136|\n",
              "|Subscriber|credit card|204503|\n",
              "+----------+-----------+------+"
            ],
            "text/html": [
              "<table border='1'>\n",
              "<tr><th>user_type</th><th>pyment</th><th>count</th></tr>\n",
              "<tr><td>Subscriber</td><td>app wallet</td><td>204727</td></tr>\n",
              "<tr><td>Customer</td><td>app wallet</td><td>55334</td></tr>\n",
              "<tr><td>Customer</td><td>credit card</td><td>55136</td></tr>\n",
              "<tr><td>Subscriber</td><td>credit card</td><td>204503</td></tr>\n",
              "</table>\n"
            ]
          },
          "metadata": {},
          "execution_count": 48
        }
      ]
    },
    {
      "cell_type": "code",
      "source": [
        "user_pivot = df.groupBy('user_type').pivot('pyment').count()\n",
        "user_pivot"
      ],
      "metadata": {
        "colab": {
          "base_uri": "https://localhost:8080/",
          "height": 91
        },
        "id": "TLJI9K4dIqcR",
        "outputId": "67dcd74a-23c1-4062-c7d1-8a923bd548fb"
      },
      "execution_count": null,
      "outputs": [
        {
          "output_type": "execute_result",
          "data": {
            "text/plain": [
              "+----------+----------+-----------+\n",
              "| user_type|app wallet|credit card|\n",
              "+----------+----------+-----------+\n",
              "|Subscriber|    204727|     204503|\n",
              "|  Customer|     55334|      55136|\n",
              "+----------+----------+-----------+"
            ],
            "text/html": [
              "<table border='1'>\n",
              "<tr><th>user_type</th><th>app wallet</th><th>credit card</th></tr>\n",
              "<tr><td>Subscriber</td><td>204727</td><td>204503</td></tr>\n",
              "<tr><td>Customer</td><td>55334</td><td>55136</td></tr>\n",
              "</table>\n"
            ]
          },
          "metadata": {},
          "execution_count": 49
        }
      ]
    }
  ]
}