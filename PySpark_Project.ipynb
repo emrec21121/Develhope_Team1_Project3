{
  "nbformat": 4,
  "nbformat_minor": 0,
  "metadata": {
    "colab": {
      "provenance": [],
      "authorship_tag": "ABX9TyNUspzCkvbeS04xLkacJ+O0",
      "include_colab_link": true
    },
    "kernelspec": {
      "name": "python3",
      "display_name": "Python 3"
    },
    "language_info": {
      "name": "python"
    }
  },
  "cells": [
    {
      "cell_type": "markdown",
      "metadata": {
        "id": "view-in-github",
        "colab_type": "text"
      },
      "source": [
        "<a href=\"https://colab.research.google.com/github/emrec21121/Develhope_Team1_Project3/blob/main/PySpark_Project.ipynb\" target=\"_parent\"><img src=\"https://colab.research.google.com/assets/colab-badge.svg\" alt=\"Open In Colab\"/></a>"
      ]
    },
    {
      "cell_type": "code",
      "execution_count": null,
      "metadata": {
        "colab": {
          "base_uri": "https://localhost:8080/"
        },
        "id": "up6iPe9Yk4LZ",
        "outputId": "4756a38c-d1ce-4119-ac12-284c752965e8"
      },
      "outputs": [
        {
          "output_type": "stream",
          "name": "stdout",
          "text": [
            "Hello!!\n"
          ]
        }
      ],
      "source": [
        "print('Hello!!')"
      ]
    },
    {
      "cell_type": "markdown",
      "source": [
        "Hello. Can you edit this?\n",
        "\n"
      ],
      "metadata": {
        "id": "cwMAHtgnlTi4"
      }
    },
    {
      "cell_type": "code",
      "source": [
        "! pip install pyspark py4j"
      ],
      "metadata": {
        "id": "qV3Ig9eZo5uw"
      },
      "execution_count": null,
      "outputs": []
    },
    {
      "cell_type": "code",
      "source": [
        "import pandas as pd"
      ],
      "metadata": {
        "id": "FRqsOlI2sKsv"
      },
      "execution_count": null,
      "outputs": []
    },
    {
      "cell_type": "code",
      "source": [
        "from pyspark.sql import SparkSession\n",
        "\n",
        "spark = SparkSession.builder \\\n",
        "        .appName(\"Google Colab - PySpark Demo\") \\\n",
        "        .master(\"local[*]\") \\\n",
        "        .getOrCreate()\n"
      ],
      "metadata": {
        "id": "pV5YJWUAqoPC"
      },
      "execution_count": null,
      "outputs": []
    },
    {
      "cell_type": "code",
      "source": [
        "df = spark.read.csv('/content/2017-fordgobike-tripdataa.csv')\n",
        "df.show(truncate = False)"
      ],
      "metadata": {
        "id": "r-A3j2-xp9N1"
      },
      "execution_count": null,
      "outputs": []
    },
    {
      "cell_type": "code",
      "source": [
        "pandas_df = df.toPandas()"
      ],
      "metadata": {
        "id": "wzPWS0TesQp6"
      },
      "execution_count": null,
      "outputs": []
    },
    {
      "cell_type": "code",
      "source": [
        "pandas_df.tail()"
      ],
      "metadata": {
        "id": "5bwZPxT7sQtR"
      },
      "execution_count": null,
      "outputs": []
    },
    {
      "cell_type": "code",
      "source": [],
      "metadata": {
        "id": "k4I1TlPktAvK"
      },
      "execution_count": null,
      "outputs": []
    },
    {
      "cell_type": "markdown",
      "source": [
        "### Hello. I started a pySpark session here. I think this will do the job for our project. I will start upload the notebook. I also imported pandas. I also imported pandas to check the functionality of this and I think it works good. \n",
        "\n",
        "---\n",
        "\n",
        "## Have fun ! ! !\n",
        "\n",
        "---\n",
        "\n",
        "\n"
      ],
      "metadata": {
        "id": "t8L3mB93tBRD"
      }
    }
  ]
}